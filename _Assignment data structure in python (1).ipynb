{
 "cells": [
  {
   "cell_type": "code",
   "execution_count": 2,
   "id": "0b8191bb-e81c-4a3a-bbb3-2012ce3a1eca",
   "metadata": {},
   "outputs": [
    {
     "data": {
      "text/plain": [
       "'!dlroW olleH'"
      ]
     },
     "execution_count": 2,
     "metadata": {},
     "output_type": "execute_result"
    }
   ],
   "source": [
    "#1 Write a code to reverse a string.\n",
    "\n",
    "#def reverse_string(s):\n",
    "string1 = \"Hello World!\"\n",
    "string1[::-1]"
   ]
  },
  {
   "cell_type": "code",
   "execution_count": 3,
   "id": "d5e14038-04af-4609-8d65-02172655ff57",
   "metadata": {},
   "outputs": [
    {
     "name": "stdout",
     "output_type": "stream",
     "text": [
      "Number of vowels in 'This is my first show!': 4\n"
     ]
    }
   ],
   "source": [
    "#2 write a code to count the number of vowels in a string.\n",
    "\n",
    "def count_vowels(input_string):\n",
    "    vowels = \"aeiouAEIOU\"\n",
    "    count = 0\n",
    "\n",
    "    for char in input_string:\n",
    "        if char in vowels:\n",
    "            count += 1\n",
    "\n",
    "    return count\n",
    "\n",
    "# Example usage\n",
    "input_string = \"This is my first show!\"\n",
    "vowel_count = count_vowels(input_string)\n",
    "print(f\"Number of vowels in '{input_string}': {vowel_count}\")\n"
   ]
  },
  {
   "cell_type": "code",
   "execution_count": 41,
   "id": "27f56a45-20eb-4193-a403-ffa7217f94ff",
   "metadata": {},
   "outputs": [
    {
     "name": "stdin",
     "output_type": "stream",
     "text": [
      "Enter a string:  \"This is my home\"\n"
     ]
    },
    {
     "name": "stdout",
     "output_type": "stream",
     "text": [
      "Not a palindrome.\n"
     ]
    }
   ],
   "source": [
    "#3 Write a code to check if a given string is a palindrome or not.\n",
    "\n",
    "def is_palindrome(s):\n",
    "    # Remove spaces and convert to lowercase for case-insensitive comparison\n",
    "    s = s.replace(\" \", \"\").lower()\n",
    "    \n",
    "    # Compare characters from both ends\n",
    "    left, right = 0, len(s) - 1\n",
    "    while left < right:\n",
    "        if s[left] != s[right]:\n",
    "            return False\n",
    "        left += 1\n",
    "        right -= 1\n",
    "    return True\n",
    "\n",
    "user_input = input(\"Enter a string: \")\n",
    "if is_palindrome(user_input):\n",
    "    print(\"It's a palindrome!\")\n",
    "else:\n",
    "    print(\"Not a palindrome.\")\n"
   ]
  },
  {
   "cell_type": "code",
   "execution_count": 46,
   "id": "37d4ba55-2d22-4f18-ba2e-6fd2481af16d",
   "metadata": {},
   "outputs": [
    {
     "name": "stdout",
     "output_type": "stream",
     "text": [
      "True\n",
      "False\n"
     ]
    }
   ],
   "source": [
    "#4 Write a code to check if two given strings are anagrams of each other.\n",
    "def are_anagrams(str1,str2):\n",
    "    str1 = str1.replace(\" \",\"\").lower()\n",
    "    str2 = str2.replace(\" \",\"\").lower()\n",
    "    return sorted(str1) == sorted(str2)\n",
    "str1 = \"listen\"\n",
    "str2 = \"silent\"\n",
    "print(are_anagrams(str1, str2))\n",
    "\n",
    "str3 =\"hello\"\n",
    "str4 = \"world\"\n",
    "print(are_anagrams(str3, str4))"
   ]
  },
  {
   "cell_type": "code",
   "execution_count": 51,
   "id": "fcfe4136-6e62-471d-9cee-81b489c952a4",
   "metadata": {},
   "outputs": [
    {
     "name": "stdout",
     "output_type": "stream",
     "text": [
      "The substring 'Geeks' occurs 3 times.\n"
     ]
    }
   ],
   "source": [
    "#5 Write a code to find all occurrences of a given substring within another string.\n",
    "\n",
    "def count_substring_occurrences(test_str, test_sub):\n",
    "    return test_str.count(test_sub)\n",
    "\n",
    "original_string = \"GeeksforGeeks is best for Geeks\"\n",
    "substring_to_find = \"Geeks\"\n",
    "count = count_substring_occurrences(original_string, substring_to_find)\n",
    "print(f\"The substring '{substring_to_find}' occurs {count} times.\")\n"
   ]
  },
  {
   "cell_type": "code",
   "execution_count": 64,
   "id": "92483bd6-0561-4161-8121-ea1d83b1f274",
   "metadata": {},
   "outputs": [
    {
     "name": "stdout",
     "output_type": "stream",
     "text": [
      "Compressed string: a3b3c3d2e2\n"
     ]
    }
   ],
   "source": [
    "#6 Write a code to perform basic string compression using the counts of repeated characters\n",
    "\n",
    "def compress_string(s):\n",
    "    \"\"\"\n",
    "    Compresses a string by replacing repeated characters with their counts.\n",
    "    Example: \"aaabbbccc\" -> \"a3b3c3\"\n",
    "    \"\"\"\n",
    "    compressed = \"\"\n",
    "    count = 1\n",
    "\n",
    "    # Iterate through the string, comparing adjacent characters\n",
    "    for i in range(1, len(s)):\n",
    "        if s[i] == s[i - 1]:\n",
    "            count += 1\n",
    "        else:\n",
    "            compressed += s[i - 1] + str(count)\n",
    "            count = 1\n",
    "\n",
    "    # Add the last character and its count\n",
    "    compressed += s[-1] + str(count)\n",
    "\n",
    "    # Return the compressed string only if it's shorter than the original\n",
    "    return compressed if len(compressed) < len(s) else s\n",
    "\n",
    "# Example usage\n",
    "original_string = \"aaabbbcccddee\"\n",
    "compressed_result = compress_string(original_string)\n",
    "print(f\"Compressed string: {compressed_result}\")\n"
   ]
  },
  {
   "cell_type": "code",
   "execution_count": 67,
   "id": "74a6bd99-16f3-4882-88e5-bc24e4b75d8e",
   "metadata": {},
   "outputs": [
    {
     "name": "stdout",
     "output_type": "stream",
     "text": [
      "Compressed string: t10\n"
     ]
    }
   ],
   "source": [
    "original_string = \"tttttttttt\"\n",
    "compressed_result = compress_string(original_string)\n",
    "print(f\"Compressed string: {compressed_result}\")\n"
   ]
  },
  {
   "cell_type": "code",
   "execution_count": 13,
   "id": "28ca4314-2abd-4a81-b696-7045125cc793",
   "metadata": {},
   "outputs": [],
   "source": [
    "#7 Write a code to determine if a string has all unique character.\n",
    "\n",
    "def has_unique_characters(s):\n",
    "    seen = set()\n",
    "    for char in s:\n",
    "        if char in seen:\n",
    "            return False\n",
    "        seen.add(char)\n",
    "        return True\n",
    "    string = \"abcdefg\"\n",
    "    print(has_unique_characters(string))\n",
    "    \n",
    "    string =  \"abcdefg\"\n",
    "    print(has_unique_characters(string))"
   ]
  },
  {
   "cell_type": "code",
   "execution_count": 14,
   "id": "d4d63581-f71b-4703-bcad-a0d85d50efa3",
   "metadata": {},
   "outputs": [
    {
     "data": {
      "text/plain": [
       "'hello welcome to home'"
      ]
     },
     "execution_count": 14,
     "metadata": {},
     "output_type": "execute_result"
    }
   ],
   "source": [
    "#8 Write a code to convert a given string to uppercase or lowercase.\n",
    "\n",
    "text = \"Hello Welcome to Home\"\n",
    "text.lower()\n",
    "\n"
   ]
  },
  {
   "cell_type": "code",
   "execution_count": 2,
   "id": "dbd4458d-127b-4628-afc6-d1328aa9190a",
   "metadata": {},
   "outputs": [
    {
     "data": {
      "text/plain": [
       "'HELLO WELCOME TO HOME'"
      ]
     },
     "execution_count": 2,
     "metadata": {},
     "output_type": "execute_result"
    }
   ],
   "source": [
    "text = \"hello welcome to home\"\n",
    "text.upper()\n"
   ]
  },
  {
   "cell_type": "code",
   "execution_count": 5,
   "id": "f37a12f2-4b1a-4e59-9137-4dc7aaa5a7f6",
   "metadata": {},
   "outputs": [
    {
     "name": "stdout",
     "output_type": "stream",
     "text": [
      "'Hi. My name is suraj' has a total of 5 words.\n"
     ]
    }
   ],
   "source": [
    "#9 Write a code to count the number of words in a string.\n",
    "\n",
    "def word_count(string):\n",
    "    # Remove spaces from the start and end, split the string into words\n",
    "    words = string.strip().split(\" \")\n",
    "    return len(words)\n",
    "\n",
    "string2 = \"Hi. My name is suraj\"\n",
    "print(f\"'{string2}' has a total of {word_count(string2)} words.\")\n"
   ]
  },
  {
   "cell_type": "code",
   "execution_count": 8,
   "id": "565ab665-28a4-4014-a9a6-3403819a149e",
   "metadata": {},
   "outputs": [
    {
     "name": "stdout",
     "output_type": "stream",
     "text": [
      "Hellosuraj\n"
     ]
    }
   ],
   "source": [
    "#10 Write a code to concatenate two strings without using the + operator.\n",
    "\n",
    "str1 = \"Hello\"\n",
    "str2 = \"suraj\"\n",
    "result = f\"{str1}{str2}\"       #using format method\n",
    "print(result)\n",
    "\n"
   ]
  },
  {
   "cell_type": "code",
   "execution_count": 11,
   "id": "488d801b-f6fe-4cb4-95c5-59d50fc15f70",
   "metadata": {},
   "outputs": [
    {
     "name": "stdout",
     "output_type": "stream",
     "text": [
      "I am in my dream\n"
     ]
    }
   ],
   "source": [
    "str1 = \"I am in \"\n",
    "str2 = \"my dream\"\n",
    "result = ''.join([str1, str2])    #using join method\n",
    "print(result)"
   ]
  },
  {
   "cell_type": "code",
   "execution_count": 20,
   "id": "0291272b-7c6f-4cf3-aae3-4c62073030b3",
   "metadata": {},
   "outputs": [
    {
     "name": "stdout",
     "output_type": "stream",
     "text": [
      "[1, 2, 3, 3, 4, 4, 5, 5, 5, 6, 'Potato']\n"
     ]
    }
   ],
   "source": [
    "#11 Write a code to remove all occurrences of a specific element from a list.\n",
    "\n",
    "a= [1, 2, 3, 3, 4, 4, 5, 5, 5, 6, \"Mango\", \"Potato\"]\n",
    "a.remove(\"Mango\")\n",
    "print(a)"
   ]
  },
  {
   "cell_type": "code",
   "execution_count": 30,
   "id": "c5b800cc-b3ef-4c43-a2ec-3f07c88db25d",
   "metadata": {},
   "outputs": [
    {
     "name": "stdout",
     "output_type": "stream",
     "text": [
      "The second largest number is: 1.1\n"
     ]
    }
   ],
   "source": [
    "#12 Implement a code to find the second largest number in a given list of integers.\n",
    "\n",
    "def find_second_largest(numbers):\n",
    "    if len(numbers) < 2:\n",
    "        return None  # Not enough elements to find a second largest\n",
    "    \n",
    "    largest = float('-inf')  # Initialize largest and second largest\n",
    "    second_largest = float('-inf')\n",
    "    \n",
    "    for num in numbers:\n",
    "        if num > largest:\n",
    "            second_largest = largest\n",
    "            largest = num\n",
    "        elif num > second_largest and num != largest:\n",
    "            second_largest = num\n",
    "    \n",
    "    return second_largest\n",
    "\n",
    "my_list = [1.1, 0.01, 1.2, 0.001]\n",
    "result = find_second_largest(my_list)\n",
    "if result is not None:\n",
    "    print(f\"The second largest number is: {result}\")\n",
    "else:\n",
    "    print(\"The list doesn't have a second largest element.\")\n"
   ]
  },
  {
   "cell_type": "code",
   "execution_count": 57,
   "id": "79db0701-3b27-44cf-8005-98b287c4b5ce",
   "metadata": {},
   "outputs": [
    {
     "name": "stdout",
     "output_type": "stream",
     "text": [
      "{1: 1, 2: 2, 3: 1, 'orange': 2, 'apple': 1, 'aloo': 1}\n"
     ]
    }
   ],
   "source": [
    "#13 Create a code to count the occurrences of each element in a list and return a dictionary with elements as keys and their counts as values.\n",
    "\n",
    "def count_elements(lst):\n",
    "   \n",
    "    element_counts = {}  # Initialize an empty dictionary to store counts\n",
    "\n",
    "    for item in lst:\n",
    "        if item in element_counts:\n",
    "            element_counts[item] += 1\n",
    "        else:\n",
    "            element_counts[item] = 1\n",
    "\n",
    "    return element_counts\n",
    "\n",
    "\n",
    "my_list = [1, 2, 3, 2, 'orange', 'orange', 'apple', 'aloo']\n",
    "result = count_elements(my_list)\n",
    "print(result)\n"
   ]
  },
  {
   "cell_type": "code",
   "execution_count": 3,
   "id": "526a416d-142c-4fc5-9858-4693f3f9e96c",
   "metadata": {},
   "outputs": [
    {
     "name": "stdout",
     "output_type": "stream",
     "text": [
      "[4, 6, 2, 5, 3, 1]\n"
     ]
    }
   ],
   "source": [
    "#14 Write a code to reverse a list in-place without using any built-in reverse functions.\n",
    "\n",
    "def reverse_list_in_place(lst):\n",
    "    left, right = 0, len(lst) - 1\n",
    "    while left < right:\n",
    "        lst[left], lst[right] = lst[right], lst[left]\n",
    "        left += 1\n",
    "        right -= 1\n",
    "\n",
    "my_list = [1, 3 ,5, 2, 6, 4]\n",
    "reverse_list_in_place(my_list)\n",
    "print(my_list)\n"
   ]
  },
  {
   "cell_type": "code",
   "execution_count": 13,
   "id": "ec865db3-3daf-424a-8cdd-c36e24dc5b8c",
   "metadata": {},
   "outputs": [
    {
     "name": "stdout",
     "output_type": "stream",
     "text": [
      "['a', 'b', 10, 12, 3]\n"
     ]
    }
   ],
   "source": [
    "#15 Implement a code to find and remove duplicates from a list while preserving the original order of elements.\n",
    "\n",
    "def remove_duplicates(lst):\n",
    "    seen = {}  \n",
    "    result = [] \n",
    "    \n",
    "    for item in lst:\n",
    "        if item not in seen:\n",
    "            result.append(item)\n",
    "            seen[item] = True\n",
    "    \n",
    "    return result\n",
    "\n",
    "my_list = ['a', 'a', 'b', 'b', 10, 10, 12, 12, 12, 3]\n",
    "unique_list = remove_duplicates(my_list)\n",
    "print(unique_list) \n"
   ]
  },
  {
   "cell_type": "code",
   "execution_count": 23,
   "id": "42abf922-d2c5-4e50-baf8-c0caf3b042cb",
   "metadata": {},
   "outputs": [
    {
     "name": "stdout",
     "output_type": "stream",
     "text": [
      "True\n",
      "True\n",
      "False\n"
     ]
    }
   ],
   "source": [
    "#16 Create a code to chek if a given list is sorted(either in ascending or descending order) or not.\n",
    "\n",
    "def is_sorted(lst):\n",
    "    \n",
    "    # Check if the list is empty or has only one element (which is always sorted)\n",
    "    if len(lst) <= 1:\n",
    "        return True\n",
    "\n",
    "    # Initialize flags for ascending and descending order\n",
    "    ascending = True\n",
    "    descending = True\n",
    "\n",
    "    # Iterate through adjacent pairs of elements\n",
    "    for i in range(len(lst) - 1):\n",
    "        if lst[i] > lst[i + 1]:\n",
    "            ascending = False\n",
    "        elif lst[i] < lst[i + 1]:\n",
    "            descending = False\n",
    "\n",
    "    return ascending or descending\n",
    "\n",
    "my_list = [1, 3, 5, 7, 9]\n",
    "print(is_sorted(my_list))  \n",
    "\n",
    "my_other_list = [10, 8, 6, 4, 2]\n",
    "print(is_sorted(my_other_list))  \n",
    "\n",
    "mixed_list = [1, 3, 2, 5, 4]\n",
    "print(is_sorted(mixed_list)) \n",
    "\n"
   ]
  },
  {
   "cell_type": "code",
   "execution_count": 24,
   "id": "03336f62-5d59-418f-8c63-fb093f19aa6d",
   "metadata": {},
   "outputs": [],
   "source": [
    "#17 Write a code to merge two sorted lists into a single sorted list.\n",
    "\n",
    "my_list = [\"apple\", \"banana\", \"orange\"]\n",
    "my_brother_list = [\"tomato\", \"potato\", \"onion\"]\n",
    "my_list.extend(my_brother_list)"
   ]
  },
  {
   "cell_type": "code",
   "execution_count": 25,
   "id": "5abe62bf-5754-4921-8113-1b7eb2ff9a67",
   "metadata": {},
   "outputs": [
    {
     "data": {
      "text/plain": [
       "['apple', 'banana', 'orange', 'tomato', 'potato', 'onion']"
      ]
     },
     "execution_count": 25,
     "metadata": {},
     "output_type": "execute_result"
    }
   ],
   "source": [
    "my_list"
   ]
  },
  {
   "cell_type": "code",
   "execution_count": 39,
   "id": "64f8eae4-9650-40d1-a8ef-ddf3acf954dd",
   "metadata": {},
   "outputs": [
    {
     "name": "stdout",
     "output_type": "stream",
     "text": [
      "{'opening', 'coding'}\n"
     ]
    }
   ],
   "source": [
    "#18 Implement a code to find the intersection of two given lists.\n",
    "set1 = set(s1)\n",
    "set2 = set(s2)\n",
    "intersection_set = set1 & set2\n",
    "\n",
    "s1 = {\"hiking\", \"coding\", \"mining\", \"opening\",}\n",
    "s2 = {\"opening\", \"coding\"}\n",
    "print(s1 & s2)"
   ]
  },
  {
   "cell_type": "code",
   "execution_count": 41,
   "id": "4022960a-672c-4ede-9c9f-0c54182c6765",
   "metadata": {},
   "outputs": [
    {
     "name": "stdout",
     "output_type": "stream",
     "text": [
      "[1, 2, 3, 4, 5, 6, 7]\n"
     ]
    }
   ],
   "source": [
    "#19 Create a code to find the union of two lists without duplicates.\n",
    "\n",
    "def union_without_duplicates(a1, a2):\n",
    "    return list(set(a1) | set(a2))\n",
    "a1 = [1, 2, 3, 4, 5]\n",
    "a2 = [3, 4, 5, 6, 7]\n",
    "result = union_without_duplicates(a1,a2)\n",
    "print(result)"
   ]
  },
  {
   "cell_type": "code",
   "execution_count": 52,
   "id": "7fb5110c-0bee-4d21-ad5c-c63c33d2e443",
   "metadata": {},
   "outputs": [
    {
     "name": "stdout",
     "output_type": "stream",
     "text": [
      "Original list: [1, 2, 3, 4, 5]\n",
      "Shuffled list: [1, 4, 2, 3, 5]\n"
     ]
    }
   ],
   "source": [
    "#20 Write a code to shuffle a given list randomly without using any built-in shuffle functions.\n",
    "\n",
    "import random\n",
    "\n",
    "def custom_shuffle(my_list):\n",
    "    # Create a copy of the original list\n",
    "    shuffled_list = my_list[:]\n",
    "    \n",
    "    for i in range(len(shuffled_list) - 1, 0, -1):\n",
    "        j = random.randint(0, i)\n",
    "        shuffled_list[i], shuffled_list[j] = shuffled_list[j], shuffled_list[i]\n",
    "    \n",
    "    return shuffled_list\n",
    "\n",
    "original_list = [1, 2, 3, 4, 5]\n",
    "shuffled_result = custom_shuffle(original_list)\n",
    "print(\"Original list:\", original_list)\n",
    "print(\"Shuffled list:\", shuffled_result)\n",
    "\n"
   ]
  },
  {
   "cell_type": "code",
   "execution_count": 3,
   "id": "39a0d6a7-dc3d-4abe-be90-aa0b5d7b29d1",
   "metadata": {},
   "outputs": [
    {
     "name": "stdout",
     "output_type": "stream",
     "text": [
      "(3, 4, 5)\n"
     ]
    }
   ],
   "source": [
    "#21 Write a code that takes two tuples as input and return a new tuple containing elements that are common to both input tuples.\n",
    "\n",
    "def common_elements(tuple1, tuple2):\n",
    "    common_set = set(tuple1) & set(tuple2)\n",
    "    return tuple(common_set)\n",
    "tuple1 = (1, 2, 3, 4, 5)\n",
    "tuple2 = (3, 4, 5, 6, 7)\n",
    "result = common_elements(tuple1, tuple2)\n",
    "print(result)\n",
    "\n"
   ]
  },
  {
   "cell_type": "code",
   "execution_count": 7,
   "id": "22823e46-0f37-4efd-9319-a97190639c62",
   "metadata": {},
   "outputs": [
    {
     "name": "stdin",
     "output_type": "stream",
     "text": [
      "Enter the first set of integers (comma-separated):  1, 2, 3, 4, 5\n",
      "Enter the second set of integers (comma-separated):  3, 4, 5, 6, 7\n"
     ]
    },
    {
     "name": "stdout",
     "output_type": "stream",
     "text": [
      "Intersection of the two sets: {3, 4, 5}\n"
     ]
    }
   ],
   "source": [
    "# 22 Create a code that prompts the user to enter two sets of integers separated by commas.Then, print the intersection of these two sets.\n",
    "\n",
    "def get_integer_set(prompt):\n",
    "   \n",
    "    input_str = input(prompt)\n",
    "    try:\n",
    "        integer_list = [int(x.strip()) for x in input_str.split(\",\")]\n",
    "        return set(integer_list)\n",
    "    except ValueError:\n",
    "        print(\"Invalid input. Please enter integers separated by commas.\")\n",
    "        return get_integer_set(prompt)\n",
    "\n",
    "# Get the first set of integers\n",
    "set1 = get_integer_set(\"Enter the first set of integers (comma-separated): \")\n",
    "set2 = get_integer_set(\"Enter the second set of integers (comma-separated): \")\n",
    "\n",
    "# Calculate the intersection\n",
    "intersection = set1 & set2\n",
    "\n",
    "# Print the result\n",
    "print(f\"Intersection of the two sets: {intersection}\")\n"
   ]
  },
  {
   "cell_type": "code",
   "execution_count": 5,
   "id": "e67ed41e-46c1-4958-94ca-bba076188eae",
   "metadata": {},
   "outputs": [
    {
     "name": "stdout",
     "output_type": "stream",
     "text": [
      "(1, 2, 3, 4, 3, 4, 5, 6)\n"
     ]
    }
   ],
   "source": [
    "#23 Write a code to concatenate two tuples. The function should take two tuples as input and return a new tuple containing elements from both input tuples.\n",
    "\n",
    "def concatenate_tuples(tuple1, tuple2):\n",
    "    return tuple1 + tuple2\n",
    "tuple_a = (1, 2, 3, 4)\n",
    "tuple_b = (3, 4, 5, 6)\n",
    "result = concatenate_tuples(tuple_a, tuple_b)\n",
    "print(result)"
   ]
  },
  {
   "cell_type": "code",
   "execution_count": 11,
   "id": "d8b89289-a891-40b4-a779-0835d5a81243",
   "metadata": {},
   "outputs": [
    {
     "name": "stdin",
     "output_type": "stream",
     "text": [
      "Enter the elements of first set, separated by spaces:  apple banana cherry\n",
      "Enter the elements of the second set, separated by spaces:  banana orange\n"
     ]
    },
    {
     "name": "stdout",
     "output_type": "stream",
     "text": [
      "Elements present in the first set but not in the second set: {'apple', 'cherry'}\n"
     ]
    }
   ],
   "source": [
    "#24 Develop a code that prompts the user to input two sets of string. Then, print the elements that are present in the first set but not in the second set.\n",
    "\n",
    "def difference_between_sets(set1, set2):\n",
    "    return set1.difference(set2)\n",
    "set1 = set(input (\"Enter the elements of first set, separated by spaces: \").split())\n",
    "set2 = set(input(\"Enter the elements of the second set, separated by spaces: \").split())\n",
    "difference = difference_between_sets(set1, set2)\n",
    "print(\"Elements present in the first set but not in the second set:\", difference)"
   ]
  },
  {
   "cell_type": "code",
   "execution_count": 12,
   "id": "f1a7f6c5-38ee-4eb3-8bec-cc31c6f27ce0",
   "metadata": {},
   "outputs": [
    {
     "name": "stdout",
     "output_type": "stream",
     "text": [
      "(4, 6, 8, 10)\n"
     ]
    }
   ],
   "source": [
    "#25 Create a code that takes a tuple and two integers as input. The function should return a new tuple containing elements from the original tuple within the specified range of indices.\n",
    "\n",
    "def extract_elements(tup, start, end):\n",
    "    if start < 0 or end >=len(tup) or start > end:\n",
    "        return \"invalid indices\"\n",
    "    return tup[start:end+1]\n",
    "original_tuple = (2, 4, 6, 8, 10, 12)\n",
    "start_index = 1\n",
    "end_index = 4\n",
    "new_tuple = extract_elements(original_tuple, start_index, end_index)\n",
    "print(new_tuple)"
   ]
  },
  {
   "cell_type": "code",
   "execution_count": 13,
   "id": "d9ea840c-410e-44bc-8769-561a7c2e6301",
   "metadata": {},
   "outputs": [
    {
     "name": "stdin",
     "output_type": "stream",
     "text": [
      "Enter the first set of characters (e.g., abc):  abc\n",
      "Enter the second set of characters (e.g., def):  def\n"
     ]
    },
    {
     "name": "stdout",
     "output_type": "stream",
     "text": [
      "union of the two sets: {'b', 'c', 'e', 'a', 'd', 'f'}\n"
     ]
    }
   ],
   "source": [
    "#26 Write a code that prompts the user to input two sets of characters. Then, print the union of these two sets.\n",
    "\n",
    "set1 = set(input(\"Enter the first set of characters (e.g., abc): \"))\n",
    "set2 = set(input(\"Enter the second set of characters (e.g., def): \"))\n",
    "union_set = set1.union(set2)\n",
    "print(\"union of the two sets:\",union_set)"
   ]
  },
  {
   "cell_type": "code",
   "execution_count": 18,
   "id": "a85dac3c-9e73-453d-8aca-37c23087013b",
   "metadata": {},
   "outputs": [
    {
     "name": "stdout",
     "output_type": "stream",
     "text": [
      "maximum value: 125\n",
      "minimum value: 0\n"
     ]
    }
   ],
   "source": [
    "#27 Develop a code that takes a tuple of integers as input. The function should return the maximum and minimum values from the tuple using tuple unpacking.\n",
    "\n",
    "def find_max_min(values):\n",
    "    *rest, = values\n",
    "    max_value = max(rest)\n",
    "    min_value = min(rest)\n",
    "    return max_value, min_value \n",
    "\n",
    "input_tuple = (2, 3, 5, 1, 0, 7, 12, 13, 125)\n",
    "max_val, min_val =find_max_min(input_tuple)\n",
    "print(f\"maximum value: {max_val}\")\n",
    "\n",
    "print(f\"minimum value: {min_val}\")"
   ]
  },
  {
   "cell_type": "code",
   "execution_count": 19,
   "id": "4ca98994-e18a-4897-89a0-3c1278b38315",
   "metadata": {},
   "outputs": [
    {
     "name": "stdout",
     "output_type": "stream",
     "text": [
      "union: {1, 2, 3, 4, 5, 6, 7, 8, 9, 10}\n",
      "intersection: {4, 5, 6, 7}\n",
      "difference (set1 - set2): {1, 2, 3}\n",
      "difference (set2 - set1): {8, 9, 10}\n"
     ]
    }
   ],
   "source": [
    "#28 Create a code that defines two sets of integers. Then, print the union, intersection, and difference of these two sets.\n",
    "\n",
    "\n",
    "set1 = {1, 2, 3, 4, 5, 6, 7}\n",
    "set2 = {4, 5, 6, 7, 8, 9, 10}\n",
    "print(\"union:\", set1 | set2)\n",
    "print(\"intersection:\", set1 & set2)\n",
    "print(\"difference (set1 - set2):\", set1 - set2)\n",
    "print(\"difference (set2 - set1):\", set2 - set1)"
   ]
  },
  {
   "cell_type": "code",
   "execution_count": 20,
   "id": "47a4eeba-e82b-45cf-ac7e-0be0a07ac770",
   "metadata": {},
   "outputs": [
    {
     "name": "stdout",
     "output_type": "stream",
     "text": [
      "the element 2 occurs 3 times in the tuple.\n"
     ]
    }
   ],
   "source": [
    "#29 Write a code that takes a tuple and an element as input. The function should return the count of occurrences of the given element in the tuple.\n",
    "\n",
    "def count_occurrences(tup, element):\n",
    "    return tup.count(element)\n",
    "my_tuple_list = (1, 2, 3, 4, 2, 5, 3, 2)\n",
    "element_to_count = 2\n",
    "count = count_occurrences(my_tuple_list, element_to_count)\n",
    "print(f\"the element {element_to_count} occurs {count} times in the tuple.\")"
   ]
  },
  {
   "cell_type": "code",
   "execution_count": 23,
   "id": "ff4f10ef-eceb-4ffe-b4fa-21c97b4d4868",
   "metadata": {},
   "outputs": [
    {
     "name": "stdin",
     "output_type": "stream",
     "text": [
      "Enter the first set of strings (separated by spaces):  apple banana cherry\n",
      "Enter the second set of strings (separated by spaces):  banana cherry date\n"
     ]
    },
    {
     "name": "stdout",
     "output_type": "stream",
     "text": [
      "the symmetric difference between the two sets is: {'date', 'apple'}\n"
     ]
    }
   ],
   "source": [
    "#30 Develop a code that prompts the user to input two sets of strings. Then, print the symmetric difference of these two sets.\n",
    "\n",
    "def get_set_from_input(prompt):\n",
    "    return set(input(prompt).split())\n",
    "set1 = get_set_from_input(\"Enter the first set of strings (separated by spaces): \")\n",
    "set2 = get_set_from_input(\"Enter the second set of strings (separated by spaces): \")\n",
    "\n",
    "#calculate the symmetric difference\n",
    "symmetric_diff = set1.symmetric_difference(set2)\n",
    "print(\"the symmetric difference between the two sets is:\", symmetric_diff)\n"
   ]
  },
  {
   "cell_type": "code",
   "execution_count": 7,
   "id": "3b495324-16b7-4fe9-95d7-fa54aaec04f9",
   "metadata": {},
   "outputs": [
    {
     "name": "stdout",
     "output_type": "stream",
     "text": [
      "{'brinjal': 1, 'potato': 1, 'apple': 2, 'hamster': 1, 'lion': 1}\n"
     ]
    }
   ],
   "source": [
    "#31 Write a code that takes a list of words as input and returns a dictionary where the keys are unique words and the values are the frequencies of those words in the input list.\n",
    "  \n",
    "def word_frequencies(word_list):\n",
    "    \n",
    "    word_count = {}\n",
    "    for word in word_list:\n",
    "        # Convert the word to lowercase to treat \"Word\" and \"word\" as the same\n",
    "        word = word.lower()\n",
    "        if word in word_count:\n",
    "            word_count[word] += 1\n",
    "        else:\n",
    "            word_count[word] = 1\n",
    "    return word_count\n",
    "\n",
    "\n",
    "input_words = [\"brinjal\", \"potato\", \"apple\", \"hamster\", \"lion\", \"apple\"]\n",
    "result = word_frequencies(input_words)\n",
    "print(result)\n"
   ]
  },
  {
   "cell_type": "code",
   "execution_count": 16,
   "id": "f65ed518-683a-4be7-84f2-fbcaf2c1bd69",
   "metadata": {},
   "outputs": [
    {
     "name": "stdout",
     "output_type": "stream",
     "text": [
      "{'a': 150, 'b': 205, 'c': 80, 'd': 250}\n"
     ]
    }
   ],
   "source": [
    "#32 Write a code that takes two dictionaries as input and merges them into a single dictionary. If there are common keys, the values should be added together.\n",
    "\n",
    "def merge_dictionaries(dict1, dict2):\n",
    "    merged_dict = dict1.copy()  # Create a copy of the first dictionary\n",
    "\n",
    "    for key, value in dict2.items():\n",
    "        if key in merged_dict:\n",
    "            # If the key exists in both dictionaries, add the values\n",
    "            merged_dict[key] += value\n",
    "        else:\n",
    "            # Otherwise, simply add the key-value pair to the merged dictionary\n",
    "            merged_dict[key] = value\n",
    "\n",
    "    return merged_dict\n",
    "\n",
    "dict1 = {'a': 150, 'b': 200, 'c': 30}\n",
    "dict2 = {'b': 5, 'c': 50, 'd': 250}\n",
    "\n",
    "merged_result = merge_dictionaries(dict1, dict2)\n",
    "print(merged_result)\n"
   ]
  },
  {
   "cell_type": "code",
   "execution_count": 20,
   "id": "25863a93-d1bc-4125-9a75-31b720c5fc4b",
   "metadata": {},
   "outputs": [
    {
     "name": "stdout",
     "output_type": "stream",
     "text": [
      "Result: 500\n"
     ]
    }
   ],
   "source": [
    "#33 Write a code to access a value in a nested dictionary. The function should take the dictionary and a list of keys as input, and return the corresponding value.If any of the keys do not exist in the dictionary, the function should return none.\n",
    "\n",
    "def get_nested_value(dictionary, keys):\n",
    "   \n",
    "    try:\n",
    "        # Start with the outermost dictionary\n",
    "        value = dictionary\n",
    "        for key in keys:\n",
    "            value = value.get(key)\n",
    "            if value is None:\n",
    "                return None  # Key not found\n",
    "        return value\n",
    "    except AttributeError:\n",
    "        return None  # Not a valid dictionary\n",
    "\n",
    "my_nested_dict = {\n",
    "    'a': {\n",
    "        'b': {\n",
    "            'c': 500\n",
    "        }\n",
    "    }\n",
    "}\n",
    "\n",
    "keys_to_retrieve = ['a', 'b', 'c']\n",
    "result = get_nested_value(my_nested_dict, keys_to_retrieve)\n",
    "print(f\"Result: {result}\") \n"
   ]
  },
  {
   "cell_type": "code",
   "execution_count": 22,
   "id": "5a0d6141-89fa-452c-b7d0-d4daac161b98",
   "metadata": {},
   "outputs": [
    {
     "name": "stdout",
     "output_type": "stream",
     "text": [
      "Sorted in ascending order: {'banana': 2, 'date': 3, 'apple': 5, 'cherry': 8}\n",
      "Sorted in descending order: {'cherry': 8, 'apple': 5, 'date': 3, 'banana': 2}\n"
     ]
    }
   ],
   "source": [
    "#34 Write a code that takes a dictionary as input and returns a sorted version of it based on the values. You can choose whether to sort in ascending or descending order.\n",
    "\n",
    "def sort_dict_by_values(input_dict, ascending=True):\n",
    "   \n",
    "    sorted_items = sorted(input_dict.items(), key=lambda item: item[1], reverse=not ascending)\n",
    "    sorted_dict = dict(sorted_items)\n",
    "    return sorted_dict\n",
    "\n",
    "# Example usage:\n",
    "my_dict = {'apple': 5, 'banana': 2, 'cherry': 8, 'date': 3}\n",
    "sorted_dict_asc = sort_dict_by_values(my_dict)\n",
    "sorted_dict_desc = sort_dict_by_values(my_dict, ascending=False)\n",
    "\n",
    "print(\"Sorted in ascending order:\", sorted_dict_asc)\n",
    "print(\"Sorted in descending order:\", sorted_dict_desc)\n"
   ]
  },
  {
   "cell_type": "code",
   "execution_count": 29,
   "id": "34758317-ef05-4170-824a-99d7e9e5df26",
   "metadata": {},
   "outputs": [
    {
     "name": "stdout",
     "output_type": "stream",
     "text": [
      "{10: 'a', 22: 'b', 11: 'c', 30: 'd'}\n"
     ]
    }
   ],
   "source": [
    "#35 Write a code that inverts a dictionary, swapping keys and values. Ensure that the inverted dictionary correctly handless cases where multiple keys have the same value by storing the keys as a list in the inverted dictionary.\n",
    "\n",
    "def invert_dict(original_dict):\n",
    "    inverted_dict = {}\n",
    "    for key, value in original_dict.items():\n",
    "        if value not in inverted_dict:\n",
    "            inverted_dict[value] = key\n",
    "        else:\n",
    "            # If the value already exists in the inverted dictionary,\n",
    "            # append the current key to the list of keys for that value.\n",
    "            if isinstance(inverted_dict[value], list):\n",
    "                inverted_dict[value].append(key)\n",
    "            else:\n",
    "                inverted_dict[value] = [inverted_dict[value], key]\n",
    "    return inverted_dict\n",
    "\n",
    "my_dict = {'a': 10, 'b': 22, 'c': 11, 'd': 30}\n",
    "inverted_result = invert_dict(my_dict)\n",
    "print(inverted_result)\n"
   ]
  },
  {
   "cell_type": "code",
   "execution_count": null,
   "id": "84f81b78-8262-472f-8da4-7c06cd877fcf",
   "metadata": {},
   "outputs": [],
   "source": []
  }
 ],
 "metadata": {
  "kernelspec": {
   "display_name": "Python 3 (ipykernel)",
   "language": "python",
   "name": "python3"
  },
  "language_info": {
   "codemirror_mode": {
    "name": "ipython",
    "version": 3
   },
   "file_extension": ".py",
   "mimetype": "text/x-python",
   "name": "python",
   "nbconvert_exporter": "python",
   "pygments_lexer": "ipython3",
   "version": "3.10.8"
  }
 },
 "nbformat": 4,
 "nbformat_minor": 5
}
